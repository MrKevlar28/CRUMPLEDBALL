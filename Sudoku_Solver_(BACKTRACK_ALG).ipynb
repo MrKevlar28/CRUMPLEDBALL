{
  "nbformat": 4,
  "nbformat_minor": 0,
  "metadata": {
    "colab": {
      "provenance": [],
      "authorship_tag": "ABX9TyNrTBhC7pHGC+omXdhXR7q3",
      "include_colab_link": true
    },
    "kernelspec": {
      "name": "python3",
      "display_name": "Python 3"
    },
    "language_info": {
      "name": "python"
    }
  },
  "cells": [
    {
      "cell_type": "markdown",
      "metadata": {
        "id": "view-in-github",
        "colab_type": "text"
      },
      "source": [
        "<a href=\"https://colab.research.google.com/github/MrKevlar28/CRUMPLEDBALL/blob/main/Sudoku_Solver_(BACKTRACK_ALG).ipynb\" target=\"_parent\"><img src=\"https://colab.research.google.com/assets/colab-badge.svg\" alt=\"Open In Colab\"/></a>"
      ]
    },
    {
      "cell_type": "code",
      "execution_count": 28,
      "metadata": {
        "colab": {
          "base_uri": "https://localhost:8080/"
        },
        "id": "WpKBCWA3cl3o",
        "outputId": "98d131b9-c412-4de2-f92d-736614f24fcb"
      },
      "outputs": [
        {
          "output_type": "stream",
          "name": "stdout",
          "text": [
            "_________________________\n",
            "Unsolved Board :\n",
            "_________________________\n",
            "7 8 0  | 0 6 0  | 0 0 0\n",
            "9 0 0  | 0 2 0  | 0 1 0\n",
            "0 0 0  | 0 0 9  | 7 0 0\n",
            "- - - - - - - - - - - - - \n",
            "0 4 0  | 0 0 0  | 0 0 0\n",
            "0 7 1  | 0 0 0  | 0 0 2\n",
            "0 0 0  | 6 1 0  | 0 0 0\n",
            "- - - - - - - - - - - - - \n",
            "0 2 0  | 0 8 0  | 5 6 0\n",
            "0 0 0  | 3 0 0  | 0 2 0\n",
            "5 0 4  | 9 0 2  | 0 0 0\n",
            "_________________________\n",
            "Solution :\n",
            "_________________________\n",
            "7 8 3  | 1 6 5  | 2 9 4\n",
            "9 5 6  | 7 2 4  | 3 1 8\n",
            "4 1 2  | 8 3 9  | 7 5 6\n",
            "- - - - - - - - - - - - - \n",
            "8 4 5  | 2 9 3  | 6 7 1\n",
            "6 7 1  | 5 4 8  | 9 3 2\n",
            "2 3 9  | 6 1 7  | 8 4 5\n",
            "- - - - - - - - - - - - - \n",
            "3 2 7  | 4 8 1  | 5 6 9\n",
            "1 9 8  | 3 5 6  | 4 2 7\n",
            "5 6 4  | 9 7 2  | 1 8 3\n"
          ]
        }
      ],
      "source": [
        "board = [\n",
        "    [7,8,0,0,6,0,0,0,0],\n",
        "    [9,0,0,0,2,0,0,1,0],\n",
        "    [0,0,0,0,0,9,7,0,0],\n",
        "    [0,4,0,0,0,0,0,0,0],\n",
        "    [0,7,1,0,0,0,0,0,2],\n",
        "    [0,0,0,6,1,0,0,0,0],\n",
        "    [0,2,0,0,8,0,5,6,0],\n",
        "    [0,0,0,3,0,0,0,2,0],\n",
        "    [5,0,4,9,0,2,0,0,0]\n",
        "]\n",
        "\n",
        "\n",
        "def solve(bo):\n",
        "    find = find_empty(bo)\n",
        "    if not find:\n",
        "        return True\n",
        "    else:\n",
        "        row, col = find\n",
        "\n",
        "    for i in range(1,10):\n",
        "        if valid(bo, i, (row, col)):\n",
        "            bo[row][col] = i\n",
        "\n",
        "            if solve(bo):\n",
        "                return True\n",
        "\n",
        "            bo[row][col] = 0\n",
        "\n",
        "    return False\n",
        "\n",
        "\n",
        "\n",
        "\n",
        "def valid(bo, num, pos):\n",
        "    # Check row\n",
        "    for i in range(len(bo[0])):\n",
        "        if bo[pos[0]][i] == num and pos[1] != i:\n",
        "            return False\n",
        "\n",
        "    # Check column\n",
        "    for i in range(len(bo)):\n",
        "        if bo[i][pos[1]] == num and pos[0] != i:\n",
        "            return False\n",
        "\n",
        "    # Check box\n",
        "    box_x = pos[1] // 3\n",
        "    box_y = pos[0] // 3\n",
        "\n",
        "    for i in range(box_y*3, box_y*3 + 3):\n",
        "        for j in range(box_x * 3, box_x*3 + 3):\n",
        "            if bo[i][j] == num and (i,j) != pos:\n",
        "                return False\n",
        "\n",
        "    return True\n",
        "\n",
        "\n",
        "def print_board(bo):\n",
        "    for i in range(len(bo)):\n",
        "        if i % 3 == 0 and i != 0:\n",
        "            print(\"- - - - - - - - - - - - - \")\n",
        "\n",
        "        for j in range(len(bo[0])):\n",
        "            if j % 3 == 0 and j != 0:\n",
        "                print(\" | \", end=\"\")\n",
        "\n",
        "            if j == 8:\n",
        "                print(bo[i][j])\n",
        "            else:\n",
        "                print(str(bo[i][j]) + \" \", end=\"\")\n",
        "\n",
        "\n",
        "def find_empty(bo):\n",
        "    for i in range(len(bo)):\n",
        "        for j in range(len(bo[0])):\n",
        "            if bo[i][j] == 0:\n",
        "                return (i, j)  # row, col\n",
        "\n",
        "    return None\n",
        "print(\"_________________________\")\n",
        "print(\"Unsolved Board :\")\n",
        "print(\"_________________________\")\n",
        "print_board(board)\n",
        "solve(board)\n",
        "print(\"_________________________\")\n",
        "print(\"Solution :\")\n",
        "print(\"_________________________\")\n",
        "print_board(board)"
      ]
    }
  ]
}