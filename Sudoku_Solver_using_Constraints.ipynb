{
  "nbformat": 4,
  "nbformat_minor": 0,
  "metadata": {
    "colab": {
      "provenance": [],
      "authorship_tag": "ABX9TyO5nf7YjmTuwX58T2rpL/cS",
      "include_colab_link": true
    },
    "kernelspec": {
      "name": "python3",
      "display_name": "Python 3"
    },
    "language_info": {
      "name": "python"
    }
  },
  "cells": [
    {
      "cell_type": "markdown",
      "metadata": {
        "id": "view-in-github",
        "colab_type": "text"
      },
      "source": [
        "<a href=\"https://colab.research.google.com/github/MrKevlar28/CRUMPLEDBALL/blob/main/Sudoku_Solver_using_Constraints.ipynb\" target=\"_parent\"><img src=\"https://colab.research.google.com/assets/colab-badge.svg\" alt=\"Open In Colab\"/></a>"
      ]
    },
    {
      "cell_type": "code",
      "execution_count": 26,
      "metadata": {
        "colab": {
          "base_uri": "https://localhost:8080/"
        },
        "id": "N2FrO-iNWU_p",
        "outputId": "bac26d41-43ab-40aa-8409-8947ddd636ba"
      },
      "outputs": [
        {
          "output_type": "stream",
          "name": "stdout",
          "text": [
            "_________________________\n",
            "Unsolved Board :\n",
            "_________________________\n",
            "7 8 0  | 0 6 0  | 0 0 0\n",
            "9 0 0  | 0 2 0  | 0 1 0\n",
            "0 0 0  | 0 0 9  | 7 0 0\n",
            "- - - - - - - - - - - - - \n",
            "0 4 0  | 0 0 0  | 0 0 0\n",
            "0 7 1  | 0 0 0  | 0 0 2\n",
            "0 0 0  | 6 1 0  | 0 0 0\n",
            "- - - - - - - - - - - - - \n",
            "0 2 0  | 0 8 0  | 5 6 0\n",
            "0 0 0  | 3 0 0  | 0 2 0\n",
            "5 0 4  | 9 0 2  | 0 0 0\n",
            "_________________________\n",
            "Solution :\n",
            "_________________________\n",
            "7 8 3  | 1 6 5  | 2 9 4\n",
            "9 5 6  | 7 2 4  | 3 1 8\n",
            "4 1 2  | 8 3 9  | 7 5 6\n",
            "- - - - - - - - - - - - - \n",
            "8 4 5  | 2 9 3  | 6 7 1\n",
            "6 7 1  | 5 4 8  | 9 3 2\n",
            "2 3 9  | 6 1 7  | 8 4 5\n",
            "- - - - - - - - - - - - - \n",
            "3 2 7  | 4 8 1  | 5 6 9\n",
            "1 9 8  | 3 5 6  | 4 2 7\n",
            "5 6 4  | 9 7 2  | 1 8 3\n"
          ]
        }
      ],
      "source": [
        "\n",
        "board = [\n",
        "    [7,8,0,0,6,0,0,0,0],\n",
        "    [9,0,0,0,2,0,0,1,0],\n",
        "    [0,0,0,0,0,9,7,0,0],\n",
        "    [0,4,0,0,0,0,0,0,0],\n",
        "    [0,7,1,0,0,0,0,0,2],\n",
        "    [0,0,0,6,1,0,0,0,0],\n",
        "    [0,2,0,0,8,0,5,6,0],\n",
        "    [0,0,0,3,0,0,0,2,0],\n",
        "    [5,0,4,9,0,2,0,0,0]\n",
        "]\n",
        "\n",
        "# Lines for better visuals\n",
        "def visuals(bo):\n",
        "    for i in range(len(bo)):\n",
        "        if i % 3 == 0 and i != 0:\n",
        "            print(\"- - - - - - - - - - - - - \")\n",
        "\n",
        "        for j in range(len(bo[0])):\n",
        "            if j % 3 == 0 and j != 0:\n",
        "                print(\" | \", end=\"\")\n",
        "\n",
        "            if j == 8:\n",
        "                print(bo[i][j])\n",
        "            else:\n",
        "                print(str(bo[i][j]) + \" \", end=\"\")\n",
        "\n",
        "\n",
        "def constraints(row, column, number):\n",
        "    global board\n",
        "    #Constraint1 : Is the number appearing in the given row?\n",
        "    for i in range(0,9):\n",
        "        if board[row][i] == number:\n",
        "            return False\n",
        "\n",
        "    #Constraint2 : Is the number appearing in the given column?\n",
        "    for i in range(0,9):\n",
        "        if board[i][column] == number:\n",
        "            return False\n",
        "\n",
        "    #Constraint3 : Is the number appearing in the given square?\n",
        "    x = (column // 3) * 3\n",
        "    y = (row // 3) * 3\n",
        "    for i in range(0,3):\n",
        "        for j in range(0,3):\n",
        "            if board[y+i][x+j] == number:\n",
        "                return False\n",
        "\n",
        "    return True\n",
        "\n",
        "def solve():\n",
        "    global board\n",
        "    for row in range(0,9):\n",
        "        for column in range(0,9):\n",
        "            if board[row][column] == 0:\n",
        "                for number in range(1,10):\n",
        "                    if constraints(row, column, number):\n",
        "                        board[row][column] = number\n",
        "                        solve()\n",
        "                        board[row][column] = 0\n",
        "\n",
        "                return\n",
        "    print(\"_________________________\")\n",
        "    print(\"Solution :\")\n",
        "    print(\"_________________________\")\n",
        "    visuals(board)\n",
        "\n",
        "print(\"_________________________\")\n",
        "print(\"Unsolved Board :\")\n",
        "print(\"_________________________\")\n",
        "visuals(board)\n",
        "solve()\n"
      ]
    }
  ]
}